{
 "cells": [
  {
   "cell_type": "code",
   "execution_count": 1,
   "metadata": {},
   "outputs": [],
   "source": [
    "## Libraries\n",
    "from selenium import webdriver\n",
    "import time\n",
    "from selenium.webdriver.support.ui import WebDriverWait\n",
    "from selenium.webdriver.support import expected_conditions as EC\n",
    "from selenium.webdriver.common.by import By\n",
    "import pandas as pd"
   ]
  },
  {
   "cell_type": "code",
   "execution_count": 2,
   "metadata": {},
   "outputs": [],
   "source": [
    "driver = webdriver.Chrome(executable_path = \"D:\\chromedriver\")"
   ]
  },
  {
   "cell_type": "code",
   "execution_count": 3,
   "metadata": {},
   "outputs": [],
   "source": [
    "driver.get(\"https://play.google.com/store/apps/details?id=com.fabhotels.guests&hl=en\")"
   ]
  },
  {
   "cell_type": "code",
   "execution_count": 4,
   "metadata": {},
   "outputs": [],
   "source": [
    "### Variables used so far #######\\\n",
    "Date = [] #List to store all the dates\n",
    "name = [] #List to store all the names\n",
    "rating = [] #List to store all the ratings\n",
    "######################################\n",
    "readMore = driver.find_elements_by_class_name(\"CwaK9\") #Expand the reviews section by clicking on \"read More\" link\n",
    "readMore[2].click() #Click Event"
   ]
  },
  {
   "cell_type": "code",
   "execution_count": 5,
   "metadata": {},
   "outputs": [
    {
     "name": "stderr",
     "output_type": "stream",
     "text": [
      "C:\\Users\\Ritish\\Anaconda3\\lib\\site-packages\\ipykernel_launcher.py:32: SettingWithCopyWarning: \n",
      "A value is trying to be set on a copy of a slice from a DataFrame.\n",
      "Try using .loc[row_indexer,col_indexer] = value instead\n",
      "\n",
      "See the caveats in the documentation: http://pandas.pydata.org/pandas-docs/stable/user_guide/indexing.html#returning-a-view-versus-a-copy\n"
     ]
    }
   ],
   "source": [
    "date = driver.find_elements_by_class_name(\"p2TkOb\") #Extracting dates\n",
    "lastDate = date[-1].text #Exact date (Required)\n",
    "while(\"2020\" in lastDate): #for only 2020 year reviews needs to be extracted\n",
    "    scrollHeight = driver.execute_script(\"return document.body.scrollHeight;\") # Getting the scroll height\n",
    "    time.sleep(5) #Waiting for new reviews to load everytime we scroll\n",
    "    driver.execute_script('window.scrollTo(0, arguments[0]);', scrollHeight) # Scrolling down to the height (max)\n",
    "    date = driver.find_elements_by_class_name(\"p2TkOb\") #Extracting dates\n",
    "    lastDate = date[-1].text #Required Date\n",
    "Name = driver.find_elements_by_class_name(\"X43Kjb\") #Extracting names of the reviewers\n",
    "rating = [] \n",
    "review = driver.find_elements_by_xpath(\"//div[contains(@class, 'pf5lIe')]/div\") #Extracting the rating iterating through each review\n",
    "for i in range(11, len(review)): #Iterating through each review\n",
    "    if(\"Rated 1 stars out of five stars\" in review[i].get_attribute(\"aria-label\")): #1 star rating\n",
    "        rating.append(1)\n",
    "    elif(\"Rated 2 stars out of five stars\" in review[i].get_attribute(\"aria-label\")): #2 star rating\n",
    "        rating.append(2)\n",
    "    elif(\"Rated 3 stars out of five stars\" in review[i].get_attribute(\"aria-label\")): #3 star rating\n",
    "        rating.append(3)\n",
    "    elif(\"Rated 4 stars out of five stars\" in review[i].get_attribute(\"aria-label\")): #4 star rating\n",
    "        rating.append(4)\n",
    "    elif(\"Rated 5 stars out of five stars\" in review[i].get_attribute(\"aria-label\")): #5 star rating\n",
    "        rating.append(5)\n",
    "name = []\n",
    "Date = []\n",
    "for i in range(8, len(date)): \n",
    "    Date.append(date[i].text)\n",
    "    name.append(Name[i].text)\n",
    "data = pd.DataFrame() #Creating Dataframe (Pandas)\n",
    "data[\"Date\"] = Date #Giving column name Individually, well we could have given in a single line but for better understanding\n",
    "data[\"Name\"] = name\n",
    "requiredData = data[data[\"Name\"] != \"FabHotels: Online Hotel Booking App\"] #Ignoring the replies to reviews\n",
    "requiredData[\"Rating\"] = rating #Rating column\n",
    "requiredData.to_csv(\"Fab Ratings Play Store\") #Saving file to csv format"
   ]
  }
 ],
 "metadata": {
  "kernelspec": {
   "display_name": "Python 3",
   "language": "python",
   "name": "python3"
  },
  "language_info": {
   "codemirror_mode": {
    "name": "ipython",
    "version": 3
   },
   "file_extension": ".py",
   "mimetype": "text/x-python",
   "name": "python",
   "nbconvert_exporter": "python",
   "pygments_lexer": "ipython3",
   "version": "3.7.4"
  }
 },
 "nbformat": 4,
 "nbformat_minor": 2
}
